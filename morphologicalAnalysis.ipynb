{
 "cells": [
  {
   "cell_type": "code",
   "execution_count": 2,
   "metadata": {},
   "outputs": [],
   "source": [
    "import nltk\n",
    "from nltk import *\n",
    "\n",
    "import enchant"
   ]
  },
  {
   "cell_type": "code",
   "execution_count": 3,
   "metadata": {},
   "outputs": [],
   "source": [
    "text=\" everyone is working on the project, that makes them dedicated towards their work.\""
   ]
  },
  {
   "cell_type": "code",
   "execution_count": 5,
   "metadata": {},
   "outputs": [],
   "source": [
    "token=RegexpTokenizer(r'\\w+')\n",
    "words=token.tokenize(text)"
   ]
  },
  {
   "cell_type": "code",
   "execution_count": 6,
   "metadata": {},
   "outputs": [
    {
     "data": {
      "text/plain": [
       "['everyone',\n",
       " 'is',\n",
       " 'working',\n",
       " 'on',\n",
       " 'the',\n",
       " 'project',\n",
       " 'that',\n",
       " 'makes',\n",
       " 'them',\n",
       " 'dedicated',\n",
       " 'towards',\n",
       " 'their',\n",
       " 'work']"
      ]
     },
     "execution_count": 6,
     "metadata": {},
     "output_type": "execute_result"
    }
   ],
   "source": [
    "words"
   ]
  },
  {
   "cell_type": "code",
   "execution_count": 10,
   "metadata": {},
   "outputs": [],
   "source": [
    "from nltk.stem import PorterStemmer"
   ]
  },
  {
   "cell_type": "code",
   "execution_count": 11,
   "metadata": {},
   "outputs": [],
   "source": [
    "stemming=PorterStemmer()\n",
    "stemm=[]"
   ]
  },
  {
   "cell_type": "code",
   "execution_count": 12,
   "metadata": {},
   "outputs": [],
   "source": [
    "for w in words:\n",
    "    stemm.append(stemming.stem(w))"
   ]
  },
  {
   "cell_type": "code",
   "execution_count": 13,
   "metadata": {},
   "outputs": [
    {
     "data": {
      "text/plain": [
       "['everyon',\n",
       " 'is',\n",
       " 'work',\n",
       " 'on',\n",
       " 'the',\n",
       " 'project',\n",
       " 'that',\n",
       " 'make',\n",
       " 'them',\n",
       " 'dedic',\n",
       " 'toward',\n",
       " 'their',\n",
       " 'work']"
      ]
     },
     "execution_count": 13,
     "metadata": {},
     "output_type": "execute_result"
    }
   ],
   "source": [
    "stemm"
   ]
  },
  {
   "cell_type": "code",
   "execution_count": 14,
   "metadata": {},
   "outputs": [],
   "source": [
    "posTags=pos_tag(stemm)"
   ]
  },
  {
   "cell_type": "code",
   "execution_count": 16,
   "metadata": {},
   "outputs": [
    {
     "data": {
      "text/plain": [
       "[('everyon', 'NN'),\n",
       " ('is', 'VBZ'),\n",
       " ('work', 'VBN'),\n",
       " ('on', 'IN'),\n",
       " ('the', 'DT'),\n",
       " ('project', 'NN'),\n",
       " ('that', 'WDT'),\n",
       " ('make', 'VBP'),\n",
       " ('them', 'PRP'),\n",
       " ('dedic', 'VB'),\n",
       " ('toward', 'IN'),\n",
       " ('their', 'PRP$'),\n",
       " ('work', 'NN')]"
      ]
     },
     "execution_count": 16,
     "metadata": {},
     "output_type": "execute_result"
    }
   ],
   "source": [
    "posTags"
   ]
  },
  {
   "cell_type": "code",
   "execution_count": 17,
   "metadata": {},
   "outputs": [],
   "source": [
    "suffix=['ed','es','s','er','ing','ly','ist']\n",
    "\n",
    "concatWord=[]\n",
    "for w,t in posTags:\n",
    "    for s in suffix:\n",
    "        concatWord.append(w+s)"
   ]
  },
  {
   "cell_type": "code",
   "execution_count": 18,
   "metadata": {},
   "outputs": [
    {
     "data": {
      "text/plain": [
       "['everyoned',\n",
       " 'everyones',\n",
       " 'everyons',\n",
       " 'everyoner',\n",
       " 'everyoning',\n",
       " 'everyonly',\n",
       " 'everyonist',\n",
       " 'ised',\n",
       " 'ises',\n",
       " 'iss',\n",
       " 'iser',\n",
       " 'ising',\n",
       " 'isly',\n",
       " 'isist',\n",
       " 'worked',\n",
       " 'workes',\n",
       " 'works',\n",
       " 'worker',\n",
       " 'working',\n",
       " 'workly',\n",
       " 'workist',\n",
       " 'oned',\n",
       " 'ones',\n",
       " 'ons',\n",
       " 'oner',\n",
       " 'oning',\n",
       " 'only',\n",
       " 'onist',\n",
       " 'theed',\n",
       " 'thees',\n",
       " 'thes',\n",
       " 'theer',\n",
       " 'theing',\n",
       " 'thely',\n",
       " 'theist',\n",
       " 'projected',\n",
       " 'projectes',\n",
       " 'projects',\n",
       " 'projecter',\n",
       " 'projecting',\n",
       " 'projectly',\n",
       " 'projectist',\n",
       " 'thated',\n",
       " 'thates',\n",
       " 'thats',\n",
       " 'thater',\n",
       " 'thating',\n",
       " 'thatly',\n",
       " 'thatist',\n",
       " 'makeed',\n",
       " 'makees',\n",
       " 'makes',\n",
       " 'makeer',\n",
       " 'makeing',\n",
       " 'makely',\n",
       " 'makeist',\n",
       " 'themed',\n",
       " 'themes',\n",
       " 'thems',\n",
       " 'themer',\n",
       " 'theming',\n",
       " 'themly',\n",
       " 'themist',\n",
       " 'dediced',\n",
       " 'dedices',\n",
       " 'dedics',\n",
       " 'dedicer',\n",
       " 'dedicing',\n",
       " 'dedicly',\n",
       " 'dedicist',\n",
       " 'towarded',\n",
       " 'towardes',\n",
       " 'towards',\n",
       " 'towarder',\n",
       " 'towarding',\n",
       " 'towardly',\n",
       " 'towardist',\n",
       " 'theired',\n",
       " 'theires',\n",
       " 'theirs',\n",
       " 'theirer',\n",
       " 'theiring',\n",
       " 'theirly',\n",
       " 'theirist',\n",
       " 'worked',\n",
       " 'workes',\n",
       " 'works',\n",
       " 'worker',\n",
       " 'working',\n",
       " 'workly',\n",
       " 'workist']"
      ]
     },
     "execution_count": 18,
     "metadata": {},
     "output_type": "execute_result"
    }
   ],
   "source": [
    "concatWord"
   ]
  },
  {
   "cell_type": "code",
   "execution_count": 19,
   "metadata": {},
   "outputs": [
    {
     "data": {
      "text/plain": [
       "['worked',\n",
       " 'works',\n",
       " 'worker',\n",
       " 'working',\n",
       " 'ones',\n",
       " 'only',\n",
       " 'thees',\n",
       " 'theist',\n",
       " 'projected',\n",
       " 'projects',\n",
       " 'projecting',\n",
       " 'makes',\n",
       " 'themed',\n",
       " 'themes',\n",
       " 'towards',\n",
       " 'towardly',\n",
       " 'theirs',\n",
       " 'worked',\n",
       " 'works',\n",
       " 'worker',\n",
       " 'working']"
      ]
     },
     "execution_count": 19,
     "metadata": {},
     "output_type": "execute_result"
    }
   ],
   "source": [
    "# check\n",
    "\n",
    "check=enchant.Dict(\"en_us\")\n",
    "correct=[]\n",
    "wrong=[]\n",
    "\n",
    "for wrd in concatWord:\n",
    "    if check.check(wrd)==True:\n",
    "        correct.append(wrd)\n",
    "    else:\n",
    "        wrong.append(wrd)\n",
    "\n",
    "correct"
   ]
  },
  {
   "cell_type": "code",
   "execution_count": 20,
   "metadata": {},
   "outputs": [],
   "source": [
    "from nltk.corpus import words"
   ]
  },
  {
   "cell_type": "code",
   "execution_count": 21,
   "metadata": {},
   "outputs": [],
   "source": [
    "yesWord=[]\n",
    "\n",
    "for wrd in concatWord:\n",
    "    if wrd in words.words():\n",
    "        yesWord.append(wrd)"
   ]
  },
  {
   "cell_type": "code",
   "execution_count": 22,
   "metadata": {},
   "outputs": [
    {
     "data": {
      "text/plain": [
       "['worked',\n",
       " 'works',\n",
       " 'worker',\n",
       " 'working',\n",
       " 'ons',\n",
       " 'oner',\n",
       " 'only',\n",
       " 'theer',\n",
       " 'theist',\n",
       " 'projecting',\n",
       " 'thats',\n",
       " 'themer',\n",
       " 'towards',\n",
       " 'towardly',\n",
       " 'theirs',\n",
       " 'worked',\n",
       " 'works',\n",
       " 'worker',\n",
       " 'working']"
      ]
     },
     "execution_count": 22,
     "metadata": {},
     "output_type": "execute_result"
    }
   ],
   "source": [
    "yesWord"
   ]
  },
  {
   "cell_type": "code",
   "execution_count": 23,
   "metadata": {},
   "outputs": [
    {
     "data": {
      "text/plain": [
       "[[('The', 'DET'), ('Fulton', 'NOUN'), ('County', 'NOUN'), ('Grand', 'ADJ'), ('Jury', 'NOUN'), ('said', 'VERB'), ('Friday', 'NOUN'), ('an', 'DET'), ('investigation', 'NOUN'), ('of', 'ADP'), (\"Atlanta's\", 'NOUN'), ('recent', 'ADJ'), ('primary', 'NOUN'), ('election', 'NOUN'), ('produced', 'VERB'), ('``', '.'), ('no', 'DET'), ('evidence', 'NOUN'), (\"''\", '.'), ('that', 'ADP'), ('any', 'DET'), ('irregularities', 'NOUN'), ('took', 'VERB'), ('place', 'NOUN'), ('.', '.')], [('The', 'DET'), ('jury', 'NOUN'), ('further', 'ADV'), ('said', 'VERB'), ('in', 'ADP'), ('term-end', 'NOUN'), ('presentments', 'NOUN'), ('that', 'ADP'), ('the', 'DET'), ('City', 'NOUN'), ('Executive', 'ADJ'), ('Committee', 'NOUN'), (',', '.'), ('which', 'DET'), ('had', 'VERB'), ('over-all', 'ADJ'), ('charge', 'NOUN'), ('of', 'ADP'), ('the', 'DET'), ('election', 'NOUN'), (',', '.'), ('``', '.'), ('deserves', 'VERB'), ('the', 'DET'), ('praise', 'NOUN'), ('and', 'CONJ'), ('thanks', 'NOUN'), ('of', 'ADP'), ('the', 'DET'), ('City', 'NOUN'), ('of', 'ADP'), ('Atlanta', 'NOUN'), (\"''\", '.'), ('for', 'ADP'), ('the', 'DET'), ('manner', 'NOUN'), ('in', 'ADP'), ('which', 'DET'), ('the', 'DET'), ('election', 'NOUN'), ('was', 'VERB'), ('conducted', 'VERB'), ('.', '.')], ...]"
      ]
     },
     "execution_count": 23,
     "metadata": {},
     "output_type": "execute_result"
    }
   ],
   "source": [
    "nltk.corpus.brown.tagged_sents(tagset='universal')"
   ]
  },
  {
   "cell_type": "code",
   "execution_count": null,
   "metadata": {},
   "outputs": [],
   "source": []
  }
 ],
 "metadata": {
  "kernelspec": {
   "display_name": "Python 3",
   "language": "python",
   "name": "python3"
  },
  "language_info": {
   "codemirror_mode": {
    "name": "ipython",
    "version": 3
   },
   "file_extension": ".py",
   "mimetype": "text/x-python",
   "name": "python",
   "nbconvert_exporter": "python",
   "pygments_lexer": "ipython3",
   "version": "3.9.4"
  },
  "orig_nbformat": 4,
  "vscode": {
   "interpreter": {
    "hash": "6f3826c0a795bf8c4273197fa82409eeedb027bef6cdcc140d0b1c206896fed0"
   }
  }
 },
 "nbformat": 4,
 "nbformat_minor": 2
}
